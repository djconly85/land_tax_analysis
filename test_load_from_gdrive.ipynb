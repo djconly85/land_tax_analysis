{
 "cells": [
  {
   "cell_type": "code",
   "execution_count": 4,
   "id": "20e44129-d27b-414a-ad3a-2b8a29706b2a",
   "metadata": {},
   "outputs": [
    {
     "data": {
      "text/html": [
       "<div>\n",
       "<style scoped>\n",
       "    .dataframe tbody tr th:only-of-type {\n",
       "        vertical-align: middle;\n",
       "    }\n",
       "\n",
       "    .dataframe tbody tr th {\n",
       "        vertical-align: top;\n",
       "    }\n",
       "\n",
       "    .dataframe thead th {\n",
       "        text-align: right;\n",
       "    }\n",
       "</style>\n",
       "<table border=\"1\" class=\"dataframe\">\n",
       "  <thead>\n",
       "    <tr style=\"text-align: right;\">\n",
       "      <th></th>\n",
       "      <th>SITUS_NUMBER</th>\n",
       "      <th>SITUS_CITY</th>\n",
       "      <th>geometry</th>\n",
       "    </tr>\n",
       "  </thead>\n",
       "  <tbody>\n",
       "    <tr>\n",
       "      <th>0</th>\n",
       "      <td>221.0</td>\n",
       "      <td>SACRAMENTO</td>\n",
       "      <td>b'\\x01\\x06\\x00\\x00\\x00\\x01\\x00\\x00\\x00\\x01\\x03...</td>\n",
       "    </tr>\n",
       "    <tr>\n",
       "      <th>1</th>\n",
       "      <td>225.0</td>\n",
       "      <td>SACRAMENTO</td>\n",
       "      <td>b'\\x01\\x06\\x00\\x00\\x00\\x01\\x00\\x00\\x00\\x01\\x03...</td>\n",
       "    </tr>\n",
       "    <tr>\n",
       "      <th>2</th>\n",
       "      <td>227.0</td>\n",
       "      <td>SACRAMENTO</td>\n",
       "      <td>b'\\x01\\x06\\x00\\x00\\x00\\x01\\x00\\x00\\x00\\x01\\x03...</td>\n",
       "    </tr>\n",
       "    <tr>\n",
       "      <th>3</th>\n",
       "      <td>231.0</td>\n",
       "      <td>SACRAMENTO</td>\n",
       "      <td>b'\\x01\\x06\\x00\\x00\\x00\\x01\\x00\\x00\\x00\\x01\\x03...</td>\n",
       "    </tr>\n",
       "    <tr>\n",
       "      <th>10</th>\n",
       "      <td>226.0</td>\n",
       "      <td>SACRAMENTO</td>\n",
       "      <td>b'\\x01\\x06\\x00\\x00\\x00\\x01\\x00\\x00\\x00\\x01\\x03...</td>\n",
       "    </tr>\n",
       "  </tbody>\n",
       "</table>\n",
       "</div>"
      ],
      "text/plain": [
       "   SITUS_NUMBER  SITUS_CITY                                           geometry\n",
       "0         221.0  SACRAMENTO  b'\\x01\\x06\\x00\\x00\\x00\\x01\\x00\\x00\\x00\\x01\\x03...\n",
       "1         225.0  SACRAMENTO  b'\\x01\\x06\\x00\\x00\\x00\\x01\\x00\\x00\\x00\\x01\\x03...\n",
       "2         227.0  SACRAMENTO  b'\\x01\\x06\\x00\\x00\\x00\\x01\\x00\\x00\\x00\\x01\\x03...\n",
       "3         231.0  SACRAMENTO  b'\\x01\\x06\\x00\\x00\\x00\\x01\\x00\\x00\\x00\\x01\\x03...\n",
       "10        226.0  SACRAMENTO  b'\\x01\\x06\\x00\\x00\\x00\\x01\\x00\\x00\\x00\\x01\\x03..."
      ]
     },
     "execution_count": 4,
     "metadata": {},
     "output_type": "execute_result"
    }
   ],
   "source": [
    "import pandas as pd\n",
    "# https://medium.com/@shouke.wei/how-to-read-dataset-from-google-drive-with-python-pandas-64bc07bbe35\n",
    "\n",
    "# sharing URL creating through gdrive interface\n",
    "sharing_url = 'https://drive.google.com/file/d/1NB326BZFDwJ6xIeRL4MiW-Fwp8BHT-Vk/view?usp=sharing'\n",
    "file_id = sharing_url.split('/')[-2]\n",
    "\n",
    "# create direct link\n",
    "# create direct link with https://sites.google.com/site/gdocs2direct/\n",
    "direct_url = fr'https://drive.google.com/uc?export=download&id={file_id}'\n",
    "cols = ['SITUS_NUMBER', 'SITUS_CITY']\n",
    "\n",
    "df = pd.read_parquet(direct_url, columns=[*cols, 'geometry']).head()\n",
    "df"
   ]
  },
  {
   "cell_type": "code",
   "execution_count": 5,
   "id": "d3992a31-007f-40c4-85f8-2caa9e19067d",
   "metadata": {},
   "outputs": [
    {
     "data": {
      "text/plain": [
       "0     MULTIPOLYGON (((-121.50558 38.59643, -121.5050...\n",
       "1     MULTIPOLYGON (((-121.50505 38.59643, -121.5055...\n",
       "2     MULTIPOLYGON (((-121.50469 38.59643, -121.5050...\n",
       "3     MULTIPOLYGON (((-121.50469 38.59557, -121.5053...\n",
       "10    MULTIPOLYGON (((-121.50576 38.59603, -121.5062...\n",
       "dtype: geometry"
      ]
     },
     "execution_count": 5,
     "metadata": {},
     "output_type": "execute_result"
    }
   ],
   "source": [
    "import geopandas as gpd\n",
    "gpd.GeoSeries.from_wkb(df['geometry'], crs=4326)"
   ]
  }
 ],
 "metadata": {
  "kernelspec": {
   "display_name": "Python 3 (ipykernel)",
   "language": "python",
   "name": "python3"
  },
  "language_info": {
   "codemirror_mode": {
    "name": "ipython",
    "version": 3
   },
   "file_extension": ".py",
   "mimetype": "text/x-python",
   "name": "python",
   "nbconvert_exporter": "python",
   "pygments_lexer": "ipython3",
   "version": "3.12.9"
  }
 },
 "nbformat": 4,
 "nbformat_minor": 5
}
