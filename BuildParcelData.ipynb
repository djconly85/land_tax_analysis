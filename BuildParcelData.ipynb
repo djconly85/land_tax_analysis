{
 "cells": [
  {
   "cell_type": "code",
   "execution_count": 1,
   "id": "da941852",
   "metadata": {},
   "outputs": [
    {
     "name": "stderr",
     "output_type": "stream",
     "text": [
      "/var/folders/qn/87pf6mn56tv_yy_5djd7k32w0000gn/T/ipykernel_87029/3483247255.py:50: DtypeWarning: Columns (5) have mixed types. Specify dtype option on import or set low_memory=False.\n",
      "  df_taxdata = pd.read_csv(f, delimiter=';').rename(columns=renamer)\n"
     ]
    },
    {
     "name": "stdout",
     "output_type": "stream",
     "text": [
      "raw parcel gis data rows: 479447\n",
      "3730 rows removed during join.\n",
      "460717 rows left after removing properties whose land value is zero.\n",
      "$2,266,443,911.37 total revenue from current property tax\n",
      "diff between prop tax revenue and LVT revenue (should be zero): 0.0\n"
     ]
    }
   ],
   "source": [
    "\n",
    "from pathlib import Path\n",
    "from zipfile import ZipFile\n",
    "import pandas as pd\n",
    "import geopandas as gpd\n",
    "import fiona\n",
    "\n",
    "raw_data = '2024_SAC_Secured_Public_Roll.zip'\n",
    "raw_fname = 'secured_roll_public.txt'\n",
    "parquet_file = None # '2024_SAC_Secured_Public_Roll.parquet' # specify path to parquet file. MUCH faster load time if already done\n",
    "\n",
    "# parcel geom data\n",
    "gpkg = 'parcel_gis.gpkg'\n",
    "gpkg_lyr = 'Parcels'\n",
    "\n",
    "\n",
    "#==========RUN SCRIPT AND SELDOM-CHANGED PARAMS============\n",
    "\n",
    "# seldom-changed params\n",
    "prop_tax_rate = 0.01 # assumed rate for entire property. Not changed. Will need to be made more sophisticated.\n",
    "\n",
    "# load CSV from zip containing property value data for each parcel\n",
    "f_propval = 'PROPVAL'\n",
    "f_proptaxamt = 'PROPTAX'\n",
    "f_landtaxamt = 'LANDTAX'\n",
    "f_landval = 'LANDVAL'\n",
    "f_impvts_val = 'IMP_VAL'\n",
    "\n",
    "if parquet_file:\n",
    "    df_master = gpd.read_parquet(parquet_file)\n",
    "else:\n",
    "    # if no parquet file available, then much slower load of data, especially if loading from GPKG or GeoJSON\n",
    "    # load GIS data\n",
    "    gdf_fields = ['APN', 'geometry', 'CITY', 'LU_GENERAL', 'LU_SPECIF', 'ZIP']\n",
    "    gdf = gpd.read_file(gpkg, layer=gpkg_lyr, columns=gdf_fields)[gdf_fields]\n",
    "    gdf.shape\n",
    "    \n",
    "    # make field names more intuitive\n",
    "    renamer = {'LAND': f_landval, 'IM': 'IMP_VAL'}\n",
    "    \n",
    "    # specify cols to exclude to clean out clutter\n",
    "    excl_cols = ['OWNER_CODE', 'OWNER', 'MAIL_ADDRESS',\n",
    "           'MAIL_CITY', 'MAIL_STATE', 'MAIL_ZIP', 'CARE_OF', 'ZONING',\n",
    "           'LAND_USE_CODE', 'RECORDING_DATE', 'RECORDING_PAGE', 'DEED_TYPE',\n",
    "            'VALUE_DT', 'NGH', 'ACTION_CODE']\n",
    "    \n",
    "    with ZipFile(raw_data) as z:\n",
    "       # open the csv file in the dataset\n",
    "       with z.open(raw_fname) as f:\n",
    "          # read the dataset\n",
    "          df_taxdata = pd.read_csv(f, delimiter=';').rename(columns=renamer)\n",
    "          df_taxdata['SITUS_NUMBER'] = df_taxdata['SITUS_NUMBER'].astype('str')\n",
    "        \n",
    "    # de-clutter\n",
    "    df_taxdata = df_taxdata[[f for f in df_taxdata.columns if f not in excl_cols]]\n",
    "    \n",
    "    # create APN to enable join with GIS data\n",
    "    df_taxdata['APN'] = df_taxdata['MAPB'].astype('str').str.pad(width=3, side='left', fillchar='0') \\\n",
    "            + df_taxdata['PG'].astype('str').str.pad(width=4, side='left', fillchar='0') \\\n",
    "            + df_taxdata['PCL'].astype('str').str.pad(width=3, side='left', fillchar='0') \\\n",
    "            + df_taxdata['PSUB'].astype('str').str.pad(width=4, side='left', fillchar='0')\n",
    "    \n",
    "    for f in ['PG', 'PCL', 'PSUB']: del df_taxdata[f]\n",
    "    \n",
    "    # merge prop val data to GIS data\n",
    "    print(f\"raw parcel gis data rows: {gdf.shape[0]}\")\n",
    "    df_master = gdf.merge(df_taxdata, on='APN')\n",
    "    print(f\"{gdf.shape[0] - df_master.shape[0]} rows removed during join.\")\n",
    "    \n",
    "    # remove records where normal property tax is zero or less (assume to be special cases like hwy medians)\n",
    "    df_master = df_master.loc[df_master[f_landval] > 0]\n",
    "    print(f\"{df_master.shape[0]} rows left after removing properties whose land value is zero.\")\n",
    "    \n",
    "    # convert to CRS that can be mapped in plotly\n",
    "    df_master = df_master.to_crs(4326)\n",
    "    \n",
    "    # free up memory\n",
    "    del df_taxdata, gdf\n",
    "\n",
    "# compute revenue-neutral land tax rate\n",
    "df_master[f_propval] = df_master[f_landval] + df_master[f_impvts_val]\n",
    "df_master[f_proptaxamt] = df_master[f_propval] * prop_tax_rate\n",
    "prop_tax_revenue = df_master[f_proptaxamt].sum()\n",
    "print('${:,.2f} total revenue from current property tax'.format(prop_tax_revenue))\n",
    "\n",
    "# compute land tax rate\n",
    "propv_landv_ratio = df_master[f_propval].sum() / df_master[f_landval].sum()\n",
    "land_tax_rate = prop_tax_rate * propv_landv_ratio\n",
    "\n",
    "# confirm that revenue from land tax = revenue from property tax using land tax rate\n",
    "land_tax_rev = (df_master[f_landval] * land_tax_rate).sum()\n",
    "diff = round(land_tax_rev - prop_tax_revenue, 2)\n",
    "print(f\"diff between prop tax revenue and LVT revenue (should be zero): {diff}\")\n",
    "\n",
    "# compute land tax amt for each parcel\n",
    "f_taxdiff = 'TAXDIF'\n",
    "df_master[f_landtaxamt] = df_master[f_landval] * land_tax_rate\n",
    "df_master[f_taxdiff] = df_master[f_landtaxamt] - df_master[f_proptaxamt]"
   ]
  },
  {
   "cell_type": "code",
   "execution_count": 2,
   "id": "6439e246-fe1c-45d9-ab8a-808f1168b4ed",
   "metadata": {},
   "outputs": [
    {
     "data": {
      "text/plain": [
       "Index(['APN', 'geometry', 'CITY', 'LU_GENERAL', 'LU_SPECIF', 'ZIP', 'MAPB',\n",
       "       'TAX_RATE_AREA', 'SITUS_NUMBER', 'SITUS_CITY', 'SITUS_STREET',\n",
       "       'SITUS_ZIP', 'LANDVAL', 'IMP_VAL', 'FIXTURE', 'PP', 'HO_EX', 'EX',\n",
       "       'ACTION_CODE                                                                                                                                             ',\n",
       "       'PROPVAL', 'PROPTAX', 'LANDTAX', 'TAXDIF'],\n",
       "      dtype='object')"
      ]
     },
     "execution_count": 2,
     "metadata": {},
     "output_type": "execute_result"
    }
   ],
   "source": [
    "# Add census data to each parcel (e.g., allow aggregation by census tract?)"
   ]
  },
  {
   "cell_type": "code",
   "execution_count": 4,
   "id": "f8b0022f",
   "metadata": {},
   "outputs": [
    {
     "name": "stdout",
     "output_type": "stream",
     "text": [
      "successful output to parquet.\n"
     ]
    }
   ],
   "source": [
    "# Export portion of full table\n",
    "df_export = df_master[df_master['CITY'] == 'SACRAMENTO'].copy() # df_master.head(100)\n",
    "export_name = 'SACRAMENTO'\n",
    "\n",
    "# need to convert to string because otherwise will give mixed-type error when exporting to parquet\n",
    "df_export['SITUS_NUMBER'] = df_export['SITUS_NUMBER'].astype('str') \n",
    "\n",
    "df_export.to_parquet(f'{export_name}.parquet')\n",
    "print(\"successful output to parquet.\")"
   ]
  },
  {
   "cell_type": "code",
   "execution_count": 3,
   "id": "b5a94bae-9329-4519-a0d4-e0b7111c70f0",
   "metadata": {},
   "outputs": [],
   "source": [
    "# Export full table to parquet (for faster loading in future)\n",
    "df_master['SITUS_NUMBER'] = df_master['SITUS_NUMBER'].astype('str') \n",
    "df_master.to_parquet(f\"{Path(raw_data).stem}.parquet\")"
   ]
  }
 ],
 "metadata": {
  "kernelspec": {
   "display_name": "Python 3 (ipykernel)",
   "language": "python",
   "name": "python3"
  },
  "language_info": {
   "codemirror_mode": {
    "name": "ipython",
    "version": 3
   },
   "file_extension": ".py",
   "mimetype": "text/x-python",
   "name": "python",
   "nbconvert_exporter": "python",
   "pygments_lexer": "ipython3",
   "version": "3.12.9"
  }
 },
 "nbformat": 4,
 "nbformat_minor": 5
}
